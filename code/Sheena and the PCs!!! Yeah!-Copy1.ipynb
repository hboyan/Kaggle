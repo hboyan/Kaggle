{
 "cells": [
  {
   "cell_type": "code",
   "execution_count": 1,
   "metadata": {
    "collapsed": false
   },
   "outputs": [
    {
     "name": "stderr",
     "output_type": "stream",
     "text": [
      "C:\\Anaconda2\\lib\\site-packages\\sklearn\\lda.py:4: DeprecationWarning: lda.LDA has been moved to discriminant_analysis.LinearDiscriminantAnalysis in 0.17 and will be removed in 0.19\n",
      "  \"in 0.17 and will be removed in 0.19\", DeprecationWarning)\n"
     ]
    }
   ],
   "source": [
    "import pandas as pd\n",
    "import numpy as np\n",
    "from sklearn.lda import LDA\n",
    "from geopy.distance import vincenty\n",
    "from sklearn.preprocessing import StandardScaler\n",
    "from sklearn.decomposition import PCA"
   ]
  },
  {
   "cell_type": "code",
   "execution_count": 2,
   "metadata": {
    "collapsed": true
   },
   "outputs": [],
   "source": [
    "from sklearn.ensemble import RandomForestClassifier\n",
    "from sklearn.cross_validation import train_test_split\n",
    "from sklearn.metrics import accuracy_score,roc_auc_score\n",
    "from sklearn.cross_validation import cross_val_score, StratifiedKFold\n",
    "from sklearn.linear_model import LogisticRegression\n",
    "from sklearn.neighbors import KNeighborsClassifier\n",
    "from sklearn.tree import DecisionTreeClassifier\n",
    "from sklearn.ensemble import ExtraTreesClassifier, BaggingClassifier\n",
    "from sklearn import svm\n",
    "from sklearn.grid_search import GridSearchCV"
   ]
  },
  {
   "cell_type": "code",
   "execution_count": 3,
   "metadata": {
    "collapsed": false
   },
   "outputs": [],
   "source": [
    "df = pd.read_csv(\"../assets/train.csv\")\n",
    "test = pd.read_csv(\"../assets/test.csv\")\n",
    "sample = pd.read_csv('../Assets/sampleSubmission.csv')"
   ]
  },
  {
   "cell_type": "code",
   "execution_count": 4,
   "metadata": {
    "collapsed": false
   },
   "outputs": [],
   "source": [
    "df[\"Date\"] = pd.to_datetime(df[\"Date\"])\n",
    "test[\"Date\"] = pd.to_datetime(test[\"Date\"])"
   ]
  },
  {
   "cell_type": "code",
   "execution_count": 5,
   "metadata": {
    "collapsed": false
   },
   "outputs": [],
   "source": [
    "df[\"Latlong\"] = zip(df[\"Latitude\"], df[\"Longitude\"])\n",
    "test[\"Latlong\"] = zip(test[\"Latitude\"], test[\"Longitude\"])"
   ]
  },
  {
   "cell_type": "code",
   "execution_count": 6,
   "metadata": {
    "collapsed": false
   },
   "outputs": [
    {
     "name": "stdout",
     "output_type": "stream",
     "text": [
      "17.1810367501\n"
     ]
    }
   ],
   "source": [
    "#Station 1: CHICAGO O'HARE INTERNATIONAL AIRPORT Lat: 41.995 Lon: -87.933 Elev: 662 ft. above sea level\n",
    "#Station 2: CHICAGO MIDWAY INTL ARPT Lat: 41.786 Lon: -87.752 Elev: 612 ft. above sea level\n",
    "\n",
    "station_1 = (41.995, -87.933)\n",
    "station_2 = (41.786, -87.752)\n",
    "\n",
    "print(vincenty(station_1, station_2).miles)"
   ]
  },
  {
   "cell_type": "code",
   "execution_count": 7,
   "metadata": {
    "collapsed": true
   },
   "outputs": [],
   "source": [
    "def checkDistance(x):\n",
    "    if vincenty(station_1,x).miles > vincenty(station_2,x).miles:\n",
    "        return 2\n",
    "    else:\n",
    "        return 1"
   ]
  },
  {
   "cell_type": "code",
   "execution_count": 8,
   "metadata": {
    "collapsed": false
   },
   "outputs": [],
   "source": [
    "df[\"Station\"] = df[\"Latlong\"].apply(checkDistance)\n",
    "test[\"Station\"] = test[\"Latlong\"].apply(checkDistance)"
   ]
  },
  {
   "cell_type": "code",
   "execution_count": 9,
   "metadata": {
    "collapsed": false
   },
   "outputs": [],
   "source": [
    "weather = pd.read_csv(\"../assets/weather.csv\")"
   ]
  },
  {
   "cell_type": "code",
   "execution_count": 10,
   "metadata": {
    "collapsed": false
   },
   "outputs": [],
   "source": [
    "weather[\"Date\"] = pd.to_datetime(weather[\"Date\"])"
   ]
  },
  {
   "cell_type": "code",
   "execution_count": 11,
   "metadata": {
    "collapsed": false
   },
   "outputs": [],
   "source": [
    "df3 = df.merge(weather,on=[\"Date\",\"Station\"])\n",
    "test3 = test.merge(weather,on=[\"Date\",\"Station\"])"
   ]
  },
  {
   "cell_type": "code",
   "execution_count": 12,
   "metadata": {
    "collapsed": true
   },
   "outputs": [],
   "source": [
    "def replaceNulls(x):\n",
    "    if (x == \"M\") | (x==\" \") | (x==\"-\"):\n",
    "        return np.nan\n",
    "    else:\n",
    "        return x"
   ]
  },
  {
   "cell_type": "code",
   "execution_count": 13,
   "metadata": {
    "collapsed": false
   },
   "outputs": [],
   "source": [
    "df3 = df3.applymap(replaceNulls)\n",
    "test3 = test3.applymap(replaceNulls)"
   ]
  },
  {
   "cell_type": "code",
   "execution_count": 14,
   "metadata": {
    "collapsed": true
   },
   "outputs": [],
   "source": [
    "df3['PrecipTotal'].fillna(value = 0, inplace = True)"
   ]
  },
  {
   "cell_type": "code",
   "execution_count": 15,
   "metadata": {
    "collapsed": true
   },
   "outputs": [],
   "source": [
    "df3['StnPressure'].fillna(value = 29.29, inplace=True)"
   ]
  },
  {
   "cell_type": "code",
   "execution_count": 16,
   "metadata": {
    "collapsed": false
   },
   "outputs": [],
   "source": [
    "df3.drop([\"Depart\",\"Depth\",\"SnowFall\",\"Water1\",\"CodeSum\",\"WetBulb\"],axis=1, inplace=True)\n",
    "test3.drop([\"Depart\",\"Depth\",\"SnowFall\",\"Water1\",\"CodeSum\",\"WetBulb\"],axis=1, inplace=True)"
   ]
  },
  {
   "cell_type": "code",
   "execution_count": 17,
   "metadata": {
    "collapsed": true
   },
   "outputs": [],
   "source": [
    "weather.drop([\"Depart\",\"Depth\",\"SnowFall\",\"Water1\",\"CodeSum\",\"WetBulb\"],axis=1, inplace=True)"
   ]
  },
  {
   "cell_type": "code",
   "execution_count": 18,
   "metadata": {
    "collapsed": true
   },
   "outputs": [],
   "source": [
    "def replaceTrace(x):\n",
    "    if (\"T\" in str(x)):\n",
    "        return .0001\n",
    "    else:\n",
    "        return x"
   ]
  },
  {
   "cell_type": "code",
   "execution_count": 19,
   "metadata": {
    "collapsed": false
   },
   "outputs": [],
   "source": [
    "df3['PrecipTotal'] = df3['PrecipTotal'].apply(replaceTrace)\n",
    "test3['PrecipTotal']=test3['PrecipTotal'].apply(replaceTrace)\n",
    "test = test3"
   ]
  },
  {
   "cell_type": "code",
   "execution_count": 20,
   "metadata": {
    "collapsed": true
   },
   "outputs": [],
   "source": [
    "df4 = df3.sort_values(by=\"Date\").ffill().copy(deep=True)\n",
    "test4 = test.sort_values(by=\"Date\").ffill().copy(deep=True)"
   ]
  },
  {
   "cell_type": "code",
   "execution_count": 21,
   "metadata": {
    "collapsed": false
   },
   "outputs": [],
   "source": [
    "df2007 = df4[df4.Date.dt.year == 2007]\n",
    "df2009 = df4[df4.Date.dt.year == 2009]\n",
    "df2011 = df4[df4.Date.dt.year == 2011]\n",
    "df2013 = df4[df4.Date.dt.year == 2013]"
   ]
  },
  {
   "cell_type": "code",
   "execution_count": 22,
   "metadata": {
    "collapsed": true
   },
   "outputs": [],
   "source": [
    "df2008 = test4[test4.Date.dt.year == 2008]\n",
    "df2010 = test4[test4.Date.dt.year == 2010]\n",
    "df2012 = test4[test4.Date.dt.year == 2012]\n",
    "df2014 = test4[test4.Date.dt.year == 2014]"
   ]
  },
  {
   "cell_type": "code",
   "execution_count": 23,
   "metadata": {
    "collapsed": true
   },
   "outputs": [],
   "source": [
    "def score(model, name, myX,myy):\n",
    "    s = cross_val_score(model, myX, myy, cv=cv, scoring = 'roc_auc')\n",
    "    print \"{} Score:\\t{:0.3} ± {:0.3}\".format(name, s.mean().round(3), s.std().round(3))"
   ]
  },
  {
   "cell_type": "code",
   "execution_count": 24,
   "metadata": {
    "collapsed": true
   },
   "outputs": [],
   "source": [
    "def fitAndPrint(model):\n",
    "    model.fit(X_train,y_train)\n",
    "    y_pred = model.predict(X_test)\n",
    "    print roc_auc_score(y_test,y_pred)"
   ]
  },
  {
   "cell_type": "code",
   "execution_count": 25,
   "metadata": {
    "collapsed": true
   },
   "outputs": [],
   "source": [
    "weather_list = [\"AvgSpeed\",\"Tavg\",\"Heat\",\"ResultDir\",\"SeaLevel\",\"Station\",\"Sunrise\",\"Sunset\",\"Longitude\",\"Latitude\"]"
   ]
  },
  {
   "cell_type": "code",
   "execution_count": 26,
   "metadata": {
    "collapsed": false
   },
   "outputs": [
    {
     "data": {
      "text/plain": [
       "LabelEncoder()"
      ]
     },
     "execution_count": 26,
     "metadata": {},
     "output_type": "execute_result"
    }
   ],
   "source": [
    "from sklearn.preprocessing import LabelEncoder\n",
    "\n",
    "le = LabelEncoder()\n",
    "le.fit(list(df4[\"Species\"].values) + list(test4[\"Species\"].values))"
   ]
  },
  {
   "cell_type": "code",
   "execution_count": 27,
   "metadata": {
    "collapsed": false
   },
   "outputs": [],
   "source": [
    "df4[\"Species\"] = le.transform(df4[\"Species\"].values)\n",
    "test4[\"Species\"] = le.transform(test4[\"Species\"].values)"
   ]
  },
  {
   "cell_type": "code",
   "execution_count": 28,
   "metadata": {
    "collapsed": false
   },
   "outputs": [],
   "source": [
    "le.fit(list(df4[\"Trap\"].values) + list(test4[\"Trap\"].values))\n",
    "df4[\"Trap\"] = le.transform(df4[\"Trap\"].values)\n",
    "test4[\"Trap\"] = le.transform(test4[\"Trap\"].values)"
   ]
  },
  {
   "cell_type": "code",
   "execution_count": 29,
   "metadata": {
    "collapsed": true
   },
   "outputs": [],
   "source": [
    "le.fit(list(df4[\"Street\"].values) + list(test4[\"Street\"].values))\n",
    "df4[\"Street\"] = le.transform(df4[\"Street\"].values)\n",
    "test4[\"Street\"] = le.transform(test4[\"Street\"].values)"
   ]
  },
  {
   "cell_type": "code",
   "execution_count": 30,
   "metadata": {
    "collapsed": true
   },
   "outputs": [],
   "source": [
    "species_dummies_2007 = pd.get_dummies(df2007.Species)\n",
    "species_dummies_2009 = pd.get_dummies(df2009.Species)\n",
    "species_dummies_2011 = pd.get_dummies(df2011.Species)\n",
    "species_dummies_2013 = pd.get_dummies(df2013.Species)\n",
    "\n",
    "species_dummies_2007.reset_index(drop=True,inplace=True)\n",
    "species_dummies_2009.reset_index(drop=True,inplace=True)\n",
    "species_dummies_2011.reset_index(drop=True,inplace=True)\n",
    "species_dummies_2013.reset_index(drop=True,inplace=True)"
   ]
  },
  {
   "cell_type": "code",
   "execution_count": 31,
   "metadata": {
    "collapsed": false
   },
   "outputs": [
    {
     "data": {
      "text/plain": [
       "Index([u'Date', u'Address', u'Species', u'Block', u'Street', u'Trap',\n",
       "       u'AddressNumberAndStreet', u'Latitude', u'Longitude',\n",
       "       u'AddressAccuracy', u'NumMosquitos', u'WnvPresent', u'Latlong',\n",
       "       u'Station', u'Tmax', u'Tmin', u'Tavg', u'DewPoint', u'Heat', u'Cool',\n",
       "       u'Sunrise', u'Sunset', u'PrecipTotal', u'StnPressure', u'SeaLevel',\n",
       "       u'ResultSpeed', u'ResultDir', u'AvgSpeed'],\n",
       "      dtype='object')"
      ]
     },
     "execution_count": 31,
     "metadata": {},
     "output_type": "execute_result"
    }
   ],
   "source": [
    "df4.columns"
   ]
  },
  {
   "cell_type": "code",
   "execution_count": 32,
   "metadata": {
    "collapsed": false
   },
   "outputs": [
    {
     "name": "stderr",
     "output_type": "stream",
     "text": [
      "C:\\Anaconda2\\lib\\site-packages\\ipykernel\\__main__.py:1: FutureWarning: using '-' to provide set differences with Indexes is deprecated, use .difference()\n",
      "  if __name__ == '__main__':\n"
     ]
    }
   ],
   "source": [
    "x_list = (weather.columns - [\"Date\",\"Heat\",\"Station\"]).tolist()"
   ]
  },
  {
   "cell_type": "code",
   "execution_count": 33,
   "metadata": {
    "collapsed": false
   },
   "outputs": [
    {
     "data": {
      "text/plain": [
       "['AvgSpeed',\n",
       " 'Cool',\n",
       " 'DewPoint',\n",
       " 'PrecipTotal',\n",
       " 'ResultDir',\n",
       " 'ResultSpeed',\n",
       " 'SeaLevel',\n",
       " 'StnPressure',\n",
       " 'Sunrise',\n",
       " 'Sunset',\n",
       " 'Tavg',\n",
       " 'Tmax',\n",
       " 'Tmin']"
      ]
     },
     "execution_count": 33,
     "metadata": {},
     "output_type": "execute_result"
    }
   ],
   "source": [
    "x_list"
   ]
  },
  {
   "cell_type": "code",
   "execution_count": 34,
   "metadata": {
    "collapsed": false
   },
   "outputs": [],
   "source": [
    "df_combo = pd.concat([df4[[\"Species\",\"Trap\",\"Street\",\"Block\",\"Latitude\",\"Longitude\"]], df4[x_list]],axis=1)\n",
    "df_combo_test = pd.concat([test4[[\"Species\",\"Trap\",\"Street\",\"Block\",\"Latitude\",\"Longitude\"]], test4[x_list]],axis=1)"
   ]
  },
  {
   "cell_type": "code",
   "execution_count": 35,
   "metadata": {
    "collapsed": true
   },
   "outputs": [],
   "source": [
    "df_combo_scaled = StandardScaler().fit_transform(df_combo)\n",
    "df_combo_scaled_test = StandardScaler().fit_transform(df_combo_test)"
   ]
  },
  {
   "cell_type": "code",
   "execution_count": 36,
   "metadata": {
    "collapsed": false
   },
   "outputs": [],
   "source": [
    "X_train, X_test, y_train, y_test = train_test_split(df_combo_scaled,df4[\"WnvPresent\"],test_size=.70)"
   ]
  },
  {
   "cell_type": "code",
   "execution_count": 37,
   "metadata": {
    "collapsed": true
   },
   "outputs": [],
   "source": [
    "rf = RandomForestClassifier()"
   ]
  },
  {
   "cell_type": "code",
   "execution_count": 38,
   "metadata": {
    "collapsed": false
   },
   "outputs": [
    {
     "name": "stdout",
     "output_type": "stream",
     "text": [
      "0.550080790303\n"
     ]
    }
   ],
   "source": [
    "fitAndPrint(rf)"
   ]
  },
  {
   "cell_type": "code",
   "execution_count": 39,
   "metadata": {
    "collapsed": false
   },
   "outputs": [
    {
     "name": "stdout",
     "output_type": "stream",
     "text": [
      "0.114659734662 Species\n",
      "0.115680688915 Trap\n",
      "0.0882209400994 Street\n",
      "0.0806096651641 Block\n",
      "0.0956662050154 Latitude\n",
      "0.1188636899 Longitude\n",
      "0.022883722881 AvgSpeed\n",
      "0.0206220571625 Cool\n",
      "0.0235916238143 DewPoint\n",
      "0.0314106325815 PrecipTotal\n",
      "0.0282160589378 ResultDir\n",
      "0.0306141659511 ResultSpeed\n",
      "0.0248607764937 SeaLevel\n",
      "0.0216488240294 StnPressure\n",
      "0.0541155642896 Sunrise\n",
      "0.0612742997508 Sunset\n",
      "0.0225683042692 Tavg\n",
      "0.0218980869724 Tmax\n",
      "0.022594959111 Tmin\n"
     ]
    }
   ],
   "source": [
    "for a,b in zip(rf.feature_importances_,df_combo.columns):\n",
    "    print a,b"
   ]
  },
  {
   "cell_type": "code",
   "execution_count": 40,
   "metadata": {
    "collapsed": true
   },
   "outputs": [],
   "source": [
    "predictions = rf.predict_proba(df_combo_scaled_test)[:,1]\n",
    "sample['WnvPresent'] = predictions\n",
    "sample.to_csv('df_combo_rf.csv', index=False)"
   ]
  },
  {
   "cell_type": "code",
   "execution_count": 41,
   "metadata": {
    "collapsed": true
   },
   "outputs": [],
   "source": [
    "clf = svm.SVC(probability=True,kernel=\"linear\")"
   ]
  },
  {
   "cell_type": "code",
   "execution_count": 42,
   "metadata": {
    "collapsed": false
   },
   "outputs": [
    {
     "name": "stdout",
     "output_type": "stream",
     "text": [
      "0.5\n"
     ]
    }
   ],
   "source": [
    "fitAndPrint(clf)"
   ]
  },
  {
   "cell_type": "code",
   "execution_count": 44,
   "metadata": {
    "collapsed": false
   },
   "outputs": [],
   "source": [
    "predictions = clf.predict_proba(df_combo_scaled_test)[:,1]\n",
    "sample['WnvPresent'] = predictions\n",
    "sample.to_csv('df_combo_clf.csv', index=False)"
   ]
  },
  {
   "cell_type": "code",
   "execution_count": null,
   "metadata": {
    "collapsed": true
   },
   "outputs": [],
   "source": [
    "gamma_range = 10.**np.arange(-3, 2)\n",
    "C_range = 10.**np.arange(-1, 2)\n",
    "param_grid = dict(gamma=gamma_range, C=C_range)\n",
    "grid = GridSearchCV(clf, param_grid, cv=10, scoring='accuracy')"
   ]
  },
  {
   "cell_type": "code",
   "execution_count": null,
   "metadata": {
    "collapsed": false
   },
   "outputs": [],
   "source": [
    "fitAndPrint(grid)"
   ]
  },
  {
   "cell_type": "code",
   "execution_count": null,
   "metadata": {
    "collapsed": false
   },
   "outputs": [],
   "source": [
    "predictions = grid.predict_proba(df_combo_scaled_test)[:,1]\n",
    "sample['WnvPresent'] = predictions\n",
    "sample.to_csv('df_combo_clf_grid.csv', index=False)"
   ]
  },
  {
   "cell_type": "code",
   "execution_count": null,
   "metadata": {
    "collapsed": true
   },
   "outputs": [],
   "source": [
    "X_weather_scaled = StandardScaler().fit_transform(df4[x_list])\n",
    "X_weather_scaled_test = StandardScaler().fit_transform(test4[x_list])"
   ]
  },
  {
   "cell_type": "code",
   "execution_count": null,
   "metadata": {
    "collapsed": false
   },
   "outputs": [],
   "source": [
    "print X_weather_scaled.shape\n",
    "print X_weather_scaled_test.shape"
   ]
  },
  {
   "cell_type": "code",
   "execution_count": null,
   "metadata": {
    "collapsed": true
   },
   "outputs": [],
   "source": [
    "X_train, X_test, y_train, y_test = train_test_split(X_weather_scaled,df4[\"WnvPresent\"],test_size=.60)"
   ]
  },
  {
   "cell_type": "code",
   "execution_count": null,
   "metadata": {
    "collapsed": false
   },
   "outputs": [],
   "source": [
    "fitAndPrint(clf)"
   ]
  },
  {
   "cell_type": "code",
   "execution_count": null,
   "metadata": {
    "collapsed": false
   },
   "outputs": [],
   "source": [
    "predictions = clf.predict_proba(X_weather_scaled_test)[:,1]\n",
    "sample['WnvPresent'] = predictions\n",
    "sample.to_csv('weather_clf_60.csv', index=False)"
   ]
  },
  {
   "cell_type": "code",
   "execution_count": null,
   "metadata": {
    "collapsed": true
   },
   "outputs": [],
   "source": [
    "X_species_weather = pd.concat([species_dummies, df4[x_list]],axis=1)"
   ]
  },
  {
   "cell_type": "code",
   "execution_count": null,
   "metadata": {
    "collapsed": true
   },
   "outputs": [],
   "source": [
    "X_weather_woheat_nummos = StandardScaler().fit_transform(df4[x2_list])"
   ]
  },
  {
   "cell_type": "code",
   "execution_count": null,
   "metadata": {
    "collapsed": true
   },
   "outputs": [],
   "source": [
    "X_species_weather_scaled = StandardScaler().fit_transform(X_species_weather)"
   ]
  },
  {
   "cell_type": "code",
   "execution_count": null,
   "metadata": {
    "collapsed": true
   },
   "outputs": [],
   "source": [
    "X_weather_scaled = StandardScaler().fit_transform(df4[x_list])"
   ]
  },
  {
   "cell_type": "code",
   "execution_count": null,
   "metadata": {
    "collapsed": true
   },
   "outputs": [],
   "source": [
    "X_weather_scaled_2007 = StandardScaler().fit_transform(df2007[x_list])"
   ]
  },
  {
   "cell_type": "code",
   "execution_count": null,
   "metadata": {
    "collapsed": false
   },
   "outputs": [],
   "source": [
    "X_weather_dropcorr = StandardScaler().fit_transform(df4[weather_list])"
   ]
  },
  {
   "cell_type": "code",
   "execution_count": null,
   "metadata": {
    "collapsed": false
   },
   "outputs": [],
   "source": [
    "x1_list = ['AvgSpeed',\n",
    " 'Cool',\n",
    " 'DewPoint',\n",
    " 'ResultDir',\n",
    " 'ResultSpeed',\n",
    " 'SeaLevel',\n",
    " 'Station',\n",
    " 'Sunrise',\n",
    " 'Sunset',\n",
    " 'Tavg',\n",
    " 'Tmax',\n",
    " 'Tmin']"
   ]
  },
  {
   "cell_type": "code",
   "execution_count": null,
   "metadata": {
    "collapsed": true
   },
   "outputs": [],
   "source": [
    "X_weather_woheat_scaled = StandardScaler().fit_transform(df4[x1_list])"
   ]
  },
  {
   "cell_type": "code",
   "execution_count": null,
   "metadata": {
    "collapsed": true
   },
   "outputs": [],
   "source": [
    "pca = PCA(n_components=3)\n",
    "X_species_weather_scaled_pca = pca.fit_transform(X_species_weather_scaled)\n",
    "X_weather_scaled_pca = pca.fit_transform(X_weather_scaled)\n",
    "X_weather_woheat_scaled_pca = pca.fit_transform(X_weather_woheat_scaled)"
   ]
  },
  {
   "cell_type": "code",
   "execution_count": null,
   "metadata": {
    "collapsed": true
   },
   "outputs": [],
   "source": [
    "trapm = df4.groupby([\"Trap\"])[\"NumMosquitos\"].median()"
   ]
  },
  {
   "cell_type": "code",
   "execution_count": null,
   "metadata": {
    "collapsed": true
   },
   "outputs": [],
   "source": [
    "trapm = pd.DataFrame({\"Trap\":trapm.index,\"NumMosquitos\":trapm.values})"
   ]
  },
  {
   "cell_type": "code",
   "execution_count": null,
   "metadata": {
    "collapsed": false
   },
   "outputs": [],
   "source": [
    "trapm.head()"
   ]
  },
  {
   "cell_type": "code",
   "execution_count": null,
   "metadata": {
    "collapsed": false
   },
   "outputs": [],
   "source": [
    "test4 = pd.merge(test4,trapm,on=\"Trap\", how=\"left\")"
   ]
  },
  {
   "cell_type": "code",
   "execution_count": null,
   "metadata": {
    "collapsed": false
   },
   "outputs": [],
   "source": [
    "test4[\"NumMosquitos\"].fillna(df4[\"NumMosquitos\"].median(),inplace=True)"
   ]
  },
  {
   "cell_type": "code",
   "execution_count": null,
   "metadata": {
    "collapsed": true
   },
   "outputs": [],
   "source": [
    "y = df4[\"WnvPresent\"]"
   ]
  },
  {
   "cell_type": "code",
   "execution_count": null,
   "metadata": {
    "collapsed": true
   },
   "outputs": [],
   "source": [
    "def score(model, name, myX,myy):\n",
    "    s = cross_val_score(model, myX, myy, cv=cv)\n",
    "    print \"{} Score:\\t{:0.3} ± {:0.3}\".format(name, s.mean().round(3), s.std().round(3))"
   ]
  },
  {
   "cell_type": "code",
   "execution_count": null,
   "metadata": {
    "collapsed": true
   },
   "outputs": [],
   "source": [
    "def score_year(model, name, myX,myy):\n",
    "    s = cross_val_score(model, myX, myy, cv=cvyear)\n",
    "    print \"{} Score:\\t{:0.3} ± {:0.3}\".format(name, s.mean().round(3), s.std().round(3))"
   ]
  },
  {
   "cell_type": "code",
   "execution_count": null,
   "metadata": {
    "collapsed": false
   },
   "outputs": [],
   "source": [
    "dt = DecisionTreeClassifier()\n",
    "bdt = BaggingClassifier(DecisionTreeClassifier())\n",
    "rf = RandomForestClassifier()\n",
    "et = ExtraTreesClassifier()\n",
    "lr = LogisticRegression()"
   ]
  },
  {
   "cell_type": "code",
   "execution_count": null,
   "metadata": {
    "collapsed": true
   },
   "outputs": [],
   "source": [
    "def fitAndPrint(model):\n",
    "    model.fit(X_train,y_train)\n",
    "    y_pred = model.predict(X_test)\n",
    "    print roc_auc_score(y_test,y_pred)"
   ]
  },
  {
   "cell_type": "code",
   "execution_count": null,
   "metadata": {
    "collapsed": false
   },
   "outputs": [],
   "source": [
    "X_train, X_test, y_train, y_test = train_test_split(X_species_weather_scaled,y)\n",
    "fitAndPrint(lr)"
   ]
  },
  {
   "cell_type": "code",
   "execution_count": null,
   "metadata": {
    "collapsed": true
   },
   "outputs": [],
   "source": [
    "from sklearn.metrics import roc_auc_score"
   ]
  },
  {
   "cell_type": "code",
   "execution_count": null,
   "metadata": {
    "collapsed": false
   },
   "outputs": [],
   "source": [
    "X_train, X_test, y_train, y_test = train_test_split(X_weather_dropcorr,y)\n",
    "fitAndPrint(rf)"
   ]
  },
  {
   "cell_type": "code",
   "execution_count": null,
   "metadata": {
    "collapsed": false
   },
   "outputs": [],
   "source": [
    "rf.feature_importances_"
   ]
  },
  {
   "cell_type": "code",
   "execution_count": null,
   "metadata": {
    "collapsed": true
   },
   "outputs": [],
   "source": [
    "X_weather_test_scaled = StandardScaler().fit_transform(test4[weather_list])\n",
    "predictions = rf.predict_proba(X_weather_test_scaled)[:,1]\n",
    "sample['WnvPresent'] = predictions\n",
    "sample.to_csv('weather_pred_rf_nummos.csv', index=False)"
   ]
  }
 ],
 "metadata": {
  "kernelspec": {
   "display_name": "Python [Root]",
   "language": "python",
   "name": "Python [Root]"
  },
  "language_info": {
   "codemirror_mode": {
    "name": "ipython",
    "version": 2
   },
   "file_extension": ".py",
   "mimetype": "text/x-python",
   "name": "python",
   "nbconvert_exporter": "python",
   "pygments_lexer": "ipython2",
   "version": "2.7.12"
  }
 },
 "nbformat": 4,
 "nbformat_minor": 0
}
